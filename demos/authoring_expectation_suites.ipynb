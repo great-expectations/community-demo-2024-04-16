{
 "cells": [
  {
   "cell_type": "markdown",
   "metadata": {},
   "source": [
    "# Authoring Expectation Suites"
   ]
  },
  {
   "cell_type": "markdown",
   "metadata": {},
   "source": [
    "### Basic setup"
   ]
  },
  {
   "cell_type": "code",
   "execution_count": null,
   "metadata": {},
   "outputs": [],
   "source": [
    "# imports\n",
    "\n",
    "import os\n",
    "import great_expectations as gx\n",
    "import great_expectations.expectations as gxe\n",
    "from great_expectations.core.expectation_suite import ExpectationSuite"
   ]
  },
  {
   "cell_type": "code",
   "execution_count": null,
   "metadata": {},
   "outputs": [],
   "source": [
    "# constants\n",
    "\n",
    "asset_name = \"trip-data\"\n",
    "batch_definition_name = \"partition-by-month\"\n",
    "datasource_name = \"postgres\"\n",
    "suite_name = \"passenger_count_checker\""
   ]
  },
  {
   "cell_type": "code",
   "execution_count": null,
   "metadata": {},
   "outputs": [],
   "source": [
    "# models\n",
    "\n",
    "context = gx.get_context(mode=\"file\")\n",
    "\n",
    "datasource = context.sources.add_postgres(datasource_name, connection_string=os.environ[\"DB_CONNECTION_STRING\"])\n",
    "data_asset = datasource.add_table_asset(name=asset_name, table_name=\"trip_data\")\n",
    "batch_definition = data_asset.add_batch_definition(batch_definition_name)\n",
    "suite = context.suites.add(ExpectationSuite(suite_name))\n",
    "\n",
    "batch = data_asset.get_batch_list_from_batch_request(batch_definition.build_batch_request())[-1]  # this will get simplified\n"
   ]
  },
  {
   "cell_type": "markdown",
   "metadata": {},
   "source": [
    "### Create an expectation"
   ]
  },
  {
   "cell_type": "code",
   "execution_count": null,
   "metadata": {},
   "outputs": [],
   "source": [
    "expectation = gxe.ExpectColumnMinToBeBetween(column=\"passenger_count\", min_value=4, max_value=6)\n",
    "\n",
    "# see a failure :(\n",
    "batch.validate(expectation)"
   ]
  },
  {
   "cell_type": "markdown",
   "metadata": {},
   "source": [
    "### Edit the expectation"
   ]
  },
  {
   "cell_type": "code",
   "execution_count": null,
   "metadata": {},
   "outputs": [],
   "source": [
    "expectation.min_value = 0\n",
    "\n",
    "# see success!\n",
    "batch.validate(expectation)\n"
   ]
  },
  {
   "cell_type": "code",
   "execution_count": null,
   "metadata": {},
   "outputs": [],
   "source": [
    "suite = context.suites.get(suite_name)\n",
    "suite.add_expectation(expectation)\n",
    "suite.add_expectation(gxe.ExpectColumnValuesToBeBetween(column=\"passenger_count\", min_value=0, max_value=7))\n"
   ]
  },
  {
   "cell_type": "code",
   "execution_count": null,
   "metadata": {},
   "outputs": [],
   "source": [
    "# edit an existing expectation in a suite\n",
    "suite = context.suites.get(suite_name)\n",
    "expectation = next(e for e in suite.expectations if e.expectation_type == \"expect_column_min_to_be_between\")\n",
    "assert isinstance(expectation, gxe.ExpectColumnMinToBeBetween)\n",
    "expectation.max_value = 0\n",
    "expectation.save()\n",
    "\n",
    "print(repr(expectation))"
   ]
  },
  {
   "cell_type": "code",
   "execution_count": null,
   "metadata": {},
   "outputs": [],
   "source": [
    "suite = context.suites.get(suite_name)\n",
    "expectation = suite.add_expectation(gxe.ExpectColumnValuesToBeBetween(column=\"passenger_count\", min_value=0, max_value=7))\n",
    "expectation = suite.add_expectation(gxe.ExpectColumnMaxToBeBetween(column=\"passenger_count\", min_value=0, max_value=6))\n",
    "\n",
    "batch = data_asset.get_batch_list_from_batch_request(batch_definition.build_batch_request())[-1]  # this will get simplified\n",
    "results = batch.validate(suite)\n",
    "\n",
    "print(results)"
   ]
  }
 ],
 "metadata": {
  "kernelspec": {
   "display_name": ".venv",
   "language": "python",
   "name": "python3"
  },
  "language_info": {
   "codemirror_mode": {
    "name": "ipython",
    "version": 3
   },
   "file_extension": ".py",
   "mimetype": "text/x-python",
   "name": "python",
   "nbconvert_exporter": "python",
   "pygments_lexer": "ipython3",
   "version": "3.10.13"
  }
 },
 "nbformat": 4,
 "nbformat_minor": 2
}
