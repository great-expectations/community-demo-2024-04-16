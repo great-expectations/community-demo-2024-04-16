{
 "cells": [
  {
   "cell_type": "markdown",
   "metadata": {},
   "source": [
    "# Specifying data with Batch Definitions\n",
    "\n",
    "Before running this notebook, make sure you're gone through \"Authoring Expectation Suites\", which connects to data."
   ]
  },
  {
   "cell_type": "markdown",
   "metadata": {},
   "source": [
    "## Basic setup"
   ]
  },
  {
   "cell_type": "markdown",
   "metadata": {},
   "source": [
    "Imports"
   ]
  },
  {
   "cell_type": "code",
   "execution_count": 9,
   "metadata": {},
   "outputs": [],
   "source": [
    "import great_expectations as gx\n",
    "from great_expectations.core.validation_definition import ValidationDefinition\n",
    "from great_expectations.datasource.fluent.interfaces import Datasource\n",
    "from great_expectations.exceptions import DataContextError\n",
    "\n",
    "from constants import (\n",
    "    DATASOURCE_NAME,\n",
    "    ASSET_NAME,\n",
    "    SUITE_NAME,\n",
    "    BATCH_DEFINITION_NAME_PARTIONED_DESC,\n",
    "    BATCH_DEFINITION_NAME_PARTIONED,\n",
    ")"
   ]
  },
  {
   "cell_type": "markdown",
   "metadata": {},
   "source": [
    "### Get our Datasource and DataAsset"
   ]
  },
  {
   "cell_type": "code",
   "execution_count": 8,
   "metadata": {},
   "outputs": [],
   "source": [
    "context = gx.get_context(mode=\"file\")\n",
    "\n",
    "datasource = context.get_datasource(DATASOURCE_NAME)\n",
    "assert isinstance(datasource, Datasource)\n",
    "data_asset = datasource.get_asset(asset_name=ASSET_NAME)\n",
    "suite = context.suites.get(SUITE_NAME)"
   ]
  },
  {
   "cell_type": "markdown",
   "metadata": {},
   "source": [
    "### Create monthly batch definitions\n",
    "\n",
    "We previously created \"whole table\" Batch Definitions.\n",
    "Now, we'll create monthly batch definitions.\n",
    "When checkpoints use these, they will run expectation suites against the last batch defined by the Batch Definition."
   ]
  },
  {
   "cell_type": "code",
   "execution_count": null,
   "metadata": {},
   "outputs": [],
   "source": [
    "try:\n",
    "    batch_def = data_asset.add_batch_definition_monthly(\n",
    "        BATCH_DEFINITION_NAME_PARTIONED,\n",
    "        column=\"tpep_pickup_datetime\"\n",
    "    )\n",
    "    batch_def_desc = data_asset.add_batch_definition_monthly(\n",
    "        BATCH_DEFINITION_NAME_PARTIONED_DESC,\n",
    "        column=\"tpep_pickup_datetime\",\n",
    "        sort_ascending=False\n",
    "    )\n",
    "    print(\"Created BatchDefinitions\")\n",
    "except DataContextError:\n",
    "    batch_def = next(bd for bd in data_asset.batch_definitions if bd.name == BATCH_DEFINITION_NAME_PARTIONED)\n",
    "    batch_def_desc = next(bd for bd in data_asset.batch_definitions if bd.name == BATCH_DEFINITION_NAME_PARTIONED_DESC)\n",
    "    print(\"Entities already exist\")\n"
   ]
  },
  {
   "cell_type": "markdown",
   "metadata": {},
   "source": [
    "### Run the Validation Definition for a monthly Batch Definition"
   ]
  },
  {
   "cell_type": "code",
   "execution_count": null,
   "metadata": {},
   "outputs": [],
   "source": [
    "validation_definition = ValidationDefinition(name=\"ephemeral validation definition\", data=batch_def_desc, suite=suite)\n",
    "\n",
    "results = validation_definition.run()\n",
    "print(results.describe())"
   ]
  },
  {
   "cell_type": "markdown",
   "metadata": {},
   "source": [
    "### Specifying the Batch from a Batch Definition\n",
    "\n",
    "We can specify the batch by providing batch_parameters. A monthly Batch Definition needs parameters for `month` and `year`. These are passed into `ValidationDefinition::run` as a dictionary named `batch_parameters`."
   ]
  },
  {
   "cell_type": "code",
   "execution_count": null,
   "metadata": {},
   "outputs": [],
   "source": [
    "results = validation_definition.run(batch_parameters={\"month\": 2020, \"month\": 5})\n",
    "print(results.describe())"
   ]
  }
 ],
 "metadata": {
  "kernelspec": {
   "display_name": ".venv",
   "language": "python",
   "name": "python3"
  },
  "language_info": {
   "codemirror_mode": {
    "name": "ipython",
    "version": 3
   },
   "file_extension": ".py",
   "mimetype": "text/x-python",
   "name": "python",
   "nbconvert_exporter": "python",
   "pygments_lexer": "ipython3",
   "version": "3.10.13"
  }
 },
 "nbformat": 4,
 "nbformat_minor": 2
}
