{
 "cells": [
  {
   "cell_type": "markdown",
   "metadata": {},
   "source": [
    "# SQL Asset - Partitioned"
   ]
  },
  {
   "cell_type": "markdown",
   "metadata": {},
   "source": [
    "## Basic setup"
   ]
  },
  {
   "cell_type": "markdown",
   "metadata": {},
   "source": [
    "Imports"
   ]
  },
  {
   "cell_type": "code",
   "execution_count": null,
   "metadata": {},
   "outputs": [],
   "source": [
    "import great_expectations as gx\n",
    "import great_expectations.expectations as gxe\n",
    "\n",
    "from great_expectations.checkpoint.v1_checkpoint import Checkpoint\n",
    "from great_expectations.core.validation_definition import ValidationDefinition\n",
    "from great_expectations.datasource.fluent.interfaces import Datasource\n",
    "from great_expectations.exceptions import DataContextError\n",
    "\n",
    "from constants import (\n",
    "    DATASOURCE_NAME,\n",
    "    ASSET_NAME,\n",
    ")"
   ]
  },
  {
   "cell_type": "markdown",
   "metadata": {},
   "source": [
    "Define our names"
   ]
  },
  {
   "cell_type": "code",
   "execution_count": null,
   "metadata": {},
   "outputs": [],
   "source": [
    "asset_name = \"trip-data\"\n",
    "batch_definition_name = \"partition-by-month\"\n",
    "batch_definition_name_2 = \"partition-by-month-2\"\n",
    "checkpoint_name = \"my_checkpoint\"\n",
    "datasource_name = \"postgres\"\n",
    "suite_name = \"passenger_count_checker\""
   ]
  },
  {
   "cell_type": "code",
   "execution_count": null,
   "metadata": {},
   "outputs": [],
   "source": [
    "context = gx.get_context(mode=\"file\")\n",
    "\n",
    "datasource = context.get_datasource(DATASOURCE_NAME)\n",
    "assert isinstance(datasource, Datasource)\n",
    "data_asset = datasource.get_asset(asset_name=ASSET_NAME)\n",
    "\n",
    "try:\n",
    "    batch_def = data_asset.add_batch_definition_monthly(batch_definition_name, column=\"tpep_pickup_datetime\")\n",
    "    batch_def_desc = data_asset.add_batch_definition_monthly(batch_definition_name_2, column=\"tpep_pickup_datetime\", sort_asc=False)\n",
    "    print(\"Created BatchDefinitions\")\n",
    "except DataContextError:\n",
    "    print(\"Entities already exist\")\n"
   ]
  },
  {
   "cell_type": "markdown",
   "metadata": {},
   "source": [
    "## Check the batches for our config"
   ]
  },
  {
   "cell_type": "code",
   "execution_count": null,
   "metadata": {},
   "outputs": [],
   "source": [
    "batch_request = batch_def_desc.build_batch_request()\n",
    "batches = data_asset.get_batch_list_from_batch_request(batch_request)\n",
    "\n",
    "# Verify that we have multiple batches in the correct order\n",
    "print([b.id for b in batches])"
   ]
  },
  {
   "cell_type": "markdown",
   "metadata": {},
   "source": [
    "## Run ValidationDefinition"
   ]
  },
  {
   "cell_type": "code",
   "execution_count": null,
   "metadata": {},
   "outputs": [],
   "source": [
    "validation_definition = ValidationDefinition(name=\"epheemeral validation definition\", data=batch_def, suite=suite)\n",
    "\n",
    "results = validation_definition.run()\n",
    "print(results)"
   ]
  },
  {
   "cell_type": "markdown",
   "metadata": {},
   "source": [
    "## Create and run a Checkpoint"
   ]
  },
  {
   "cell_type": "code",
   "execution_count": null,
   "metadata": {},
   "outputs": [],
   "source": [
    "try:\n",
    "    checkpoint = context.checkpoints.add(Checkpoint(\n",
    "        name=checkpoint_name,\n",
    "        validation_definitions=[\n",
    "            ValidationDefinition(name=\"validation_def\", data=batch_def, suite=suite)\n",
    "        ],\n",
    "        actions=[],\n",
    "    ))\n",
    "except DataContextError:\n",
    "    # pass; the datasource, data_asset, batch_def, and suite already exist\n",
    "    ...\n",
    "\n",
    "results = checkpoint.run()\n",
    "print(results)"
   ]
  }
 ],
 "metadata": {
  "kernelspec": {
   "display_name": ".venv",
   "language": "python",
   "name": "python3"
  },
  "language_info": {
   "codemirror_mode": {
    "name": "ipython",
    "version": 3
   },
   "file_extension": ".py",
   "mimetype": "text/x-python",
   "name": "python",
   "nbconvert_exporter": "python",
   "pygments_lexer": "ipython3",
   "version": "3.10.13"
  }
 },
 "nbformat": 4,
 "nbformat_minor": 2
}
