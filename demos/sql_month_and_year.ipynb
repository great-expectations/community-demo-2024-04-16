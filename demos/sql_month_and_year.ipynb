{
 "cells": [
  {
   "cell_type": "markdown",
   "metadata": {},
   "source": [
    "# SQL Asset - Partitioned"
   ]
  },
  {
   "cell_type": "markdown",
   "metadata": {},
   "source": [
    "## Basic setup"
   ]
  },
  {
   "cell_type": "code",
   "execution_count": null,
   "metadata": {},
   "outputs": [],
   "source": [
    "# imports\n",
    "\n",
    "import os\n",
    "import great_expectations as gx\n",
    "from great_expectations.core.partitioners import PartitionerYearAndMonth\n",
    "import great_expectations.expectations as gxe\n",
    "from great_expectations.checkpoint.v1_checkpoint import Checkpoint\n",
    "from great_expectations.core.validation_definition import ValidationDefinition"
   ]
  },
  {
   "cell_type": "code",
   "execution_count": null,
   "metadata": {},
   "outputs": [],
   "source": [
    "# constants\n",
    "\n",
    "asset_name = \"trip-data\"\n",
    "batch_definition_name = \"partition-by-month\"\n",
    "checkpoint_name = \"my_checkpoint\"\n",
    "datasource_name = \"postgres\"\n",
    "suite_name = \"passenger_count_checker\""
   ]
  },
  {
   "cell_type": "code",
   "execution_count": null,
   "metadata": {},
   "outputs": [],
   "source": [
    "# models\n",
    "\n",
    "context = gx.get_context(mode=\"ephemeral\")\n",
    "\n",
    "datasource = context.sources.add_postgres(datasource_name, connection_string=os.environ[\"DB_CONNECTION_STRING\"])\n",
    "data_asset = datasource.add_table_asset(name=asset_name, table_name=\"trip_data\")\n",
    "batch_def = data_asset.add_batch_definition(\n",
    "    batch_definition_name,\n",
    "    partitioner=PartitionerYearAndMonth(column_name=\"pickup_datetime\", sort_batches_ascending=False),\n",
    ")\n",
    "suite = context.add_expectation_suite(suite_name)\n",
    "suite.add_expectation(\n",
    "    gxe.ExpectColumnValuesToBeBetween(\n",
    "        column=\"passenger_count\", min_value=0, max_value=10\n",
    "    )\n",
    ")\n"
   ]
  },
  {
   "cell_type": "markdown",
   "metadata": {},
   "source": [
    "## Check the batches for our config"
   ]
  },
  {
   "cell_type": "code",
   "execution_count": null,
   "metadata": {},
   "outputs": [],
   "source": [
    "batch_request = batch_def.build_batch_request()\n",
    "batches = data_asset.get_batch_list_from_batch_request(batch_request)\n",
    "\n",
    "# Verify that we have multiple batches in the correct order\n",
    "print([b.id for b in batches])"
   ]
  },
  {
   "cell_type": "markdown",
   "metadata": {},
   "source": [
    "## Run ValidationDefinition"
   ]
  },
  {
   "cell_type": "code",
   "execution_count": null,
   "metadata": {},
   "outputs": [],
   "source": [
    "validation_definition = ValidationDefinition(name=\"epheemeral validation definition\", data=batch_def, suite=suite)\n",
    "\n",
    "results = validation_definition.run()\n",
    "print(results)"
   ]
  },
  {
   "cell_type": "markdown",
   "metadata": {},
   "source": [
    "## Create and run a Checkpoint"
   ]
  },
  {
   "cell_type": "code",
   "execution_count": null,
   "metadata": {},
   "outputs": [],
   "source": [
    "checkpoint = context.checkpoints.add(Checkpoint(\n",
    "    name=checkpoint_name,\n",
    "    validation_definitions=[\n",
    "        ValidationDefinition(name=\"validation_def\", data=batch_def, suite=suite)\n",
    "    ],\n",
    "    actions=[],\n",
    "))\n",
    "\n",
    "results = checkpoint.run()\n",
    "print(results)"
   ]
  }
 ],
 "metadata": {
  "kernelspec": {
   "display_name": ".venv",
   "language": "python",
   "name": "python3"
  },
  "language_info": {
   "codemirror_mode": {
    "name": "ipython",
    "version": 3
   },
   "file_extension": ".py",
   "mimetype": "text/x-python",
   "name": "python",
   "nbconvert_exporter": "python",
   "pygments_lexer": "ipython3",
   "version": "3.10.13"
  }
 },
 "nbformat": 4,
 "nbformat_minor": 2
}
