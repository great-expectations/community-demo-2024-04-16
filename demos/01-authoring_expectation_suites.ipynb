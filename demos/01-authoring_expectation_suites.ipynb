{
 "cells": [
  {
   "cell_type": "markdown",
   "metadata": {},
   "source": [
    "# Authoring Expectation Suites"
   ]
  },
  {
   "cell_type": "markdown",
   "metadata": {},
   "source": [
    "## Imports\n",
    "\n",
    "We'll start by importing everything we'll use in the notebook. A couple things to highlight:\n",
    "* We still import `great_expectations` as `gx`\n",
    "* We now import `great_expectations.expectations` as `gxe`. In 1.0, Expectations are top-level classes namespaced to `gxe`.\n",
    "* This repo contains a `constants.py` file used across the different notebooks. We'll import the relevant files from there."
   ]
  },
  {
   "cell_type": "code",
   "execution_count": null,
   "metadata": {},
   "outputs": [],
   "source": [
    "import great_expectations as gx\n",
    "import great_expectations.exceptions as exceptions\n",
    "import great_expectations.expectations as gxe\n",
    "from great_expectations.core.expectation_suite import ExpectationSuite\n",
    "from great_expectations.datasource.fluent.interfaces import Datasource\n",
    "\n",
    "from constants import (\n",
    "    DB_CONNECTION_STRING,\n",
    "    TABLE_NAME,\n",
    "    DATASOURCE_NAME,\n",
    "    ASSET_NAME,\n",
    "    SUITE_NAME,\n",
    "    BATCH_DEFINITION_NAME_WHOLE_TABLE,\n",
    ")"
   ]
  },
  {
   "cell_type": "markdown",
   "metadata": {},
   "source": [
    "### Connecting to data\n",
    "\n",
    "Next let's connect to our data.\n",
    "Datasources and DataAssets are largely unchanged in 1.0.\n",
    "\n",
    "A new concept (that we'll touch on in greater detail later with partitioning) is the \"Batch Definition\", which specifies what subset of data to get from our asset.\n",
    "In this example, we'll use our whole asset with the \"whole table\" Batch Definition.\n",
    "\n",
    "We'll use our Batch Definition to get a concrete Batch we can validate expectations against."
   ]
  },
  {
   "cell_type": "code",
   "execution_count": null,
   "metadata": {},
   "outputs": [],
   "source": [
    "context = gx.get_context(mode=\"file\")\n",
    "\n",
    "try:\n",
    "    datasource = context.sources.add_postgres(DATASOURCE_NAME, connection_string=DB_CONNECTION_STRING)\n",
    "    data_asset = datasource.add_table_asset(name=ASSET_NAME, table_name=TABLE_NAME)\n",
    "    batch_definition = data_asset.add_batch_definition_whole_table(BATCH_DEFINITION_NAME_WHOLE_TABLE)\n",
    "\n",
    "    print(\"Created entities\")\n",
    "\n",
    "except exceptions.DataContextError:\n",
    "    datasource = context.get_datasource(DATASOURCE_NAME)\n",
    "    assert isinstance(datasource, Datasource)\n",
    "    data_asset = datasource.get_asset(asset_name=ASSET_NAME)\n",
    "    batch_definition = next(bd for bd in data_asset.batch_definitions if bd.name == BATCH_DEFINITION_NAME_WHOLE_TABLE)\n",
    "\n",
    "    print(\"Untities alread exist - loaded them\")\n",
    "\n",
    "batch = data_asset.get_batch_list_from_batch_request(batch_definition.build_batch_request())[-1]  # this will get simplified"
   ]
  },
  {
   "cell_type": "markdown",
   "metadata": {},
   "source": [
    "### Expectation creation\n",
    "\n",
    "Let's create our first gx 1.0 Expectation!\n",
    "\n",
    "Expectation classes are exposed directly in gx 1.0, and are statically typed using [Pydantic](https://docs.pydantic.dev/latest/).\n",
    "Inellisense will show valid arguments and their types.\n",
    "\n",
    "We can test the expectation against our batch without the use of a Validator, [as was needed in gx 0.18](https://docs.greatexpectations.io/docs/oss/guides/expectations/how_to_create_and_edit_expectations_with_instant_feedback_from_a_sample_batch_of_data).\n"
   ]
  },
  {
   "cell_type": "code",
   "execution_count": null,
   "metadata": {},
   "outputs": [],
   "source": [
    "expectation = gxe.ExpectColumnMinToBeBetween(column=\"passenger_count\", min_value=4, max_value=6)\n",
    "batch.validate(expectation)"
   ]
  },
  {
   "cell_type": "markdown",
   "metadata": {},
   "source": [
    "### Edit the expectation\n",
    "\n",
    "The expectation is currently failing, so let's update it and verify that it succeeds."
   ]
  },
  {
   "cell_type": "code",
   "execution_count": null,
   "metadata": {},
   "outputs": [],
   "source": [
    "expectation.min_value = 0\n",
    "batch.validate(expectation)"
   ]
  },
  {
   "cell_type": "markdown",
   "metadata": {},
   "source": [
    "### Creating an Expectation Suite\n",
    "\n",
    "Now that we have an expectation, let's create an Expectation Suite and add our expectation to it. We'll also add an expectation while we're at it.\n",
    "\n",
    "Note that after this cell, the suite and its expectations have been persisted."
   ]
  },
  {
   "cell_type": "code",
   "execution_count": null,
   "metadata": {},
   "outputs": [],
   "source": [
    "try:\n",
    "    suite = context.suites.add(ExpectationSuite(name=SUITE_NAME))\n",
    "\n",
    "    suite.add_expectation(expectation)\n",
    "    expectation = suite.add_expectation(gxe.ExpectColumnValuesToBeBetween(column=\"passenger_count\", min_value=0, max_value=4))\n",
    "    print(\"Expectation Suite created\")\n",
    "except exceptions.DataContextError:\n",
    "    print(\"We've already added the suite\")\n"
   ]
  },
  {
   "cell_type": "markdown",
   "metadata": {},
   "source": [
    "### Validating an Expectation Suite\n",
    "\n",
    "We can validate Expectation Suites against Batches the same way we validated Expectations against Batches."
   ]
  },
  {
   "cell_type": "code",
   "execution_count": null,
   "metadata": {},
   "outputs": [],
   "source": [
    "suite = context.suites.get(SUITE_NAME)\n",
    "\n",
    "results = batch.validate(suite)\n",
    "\n",
    "print(results)"
   ]
  },
  {
   "cell_type": "markdown",
   "metadata": {},
   "source": [
    "### Editing an Expectation Suite\n",
    "\n",
    "To edit an expectation suite, we find the expectation we want and edit it directly"
   ]
  },
  {
   "cell_type": "code",
   "execution_count": null,
   "metadata": {},
   "outputs": [],
   "source": [
    "suite = context.suites.get(SUITE_NAME)\n",
    "expectation = next(e for e in suite.expectations if isinstance(e, gxe.ExpectColumnValuesToBeBetween))\n",
    "expectation.max_value = 10\n",
    "\n",
    "results = batch.validate(suite)\n",
    "print(results)"
   ]
  },
  {
   "cell_type": "markdown",
   "metadata": {},
   "source": [
    "### Save the Expectation Suite\n",
    "\n",
    "Now that the suite is updated, we can save it with `suite.save()`, or we can save just the individual expectation with `expectation.save()`"
   ]
  },
  {
   "cell_type": "code",
   "execution_count": null,
   "metadata": {},
   "outputs": [],
   "source": [
    "suite.save()\n",
    "expectation.save()"
   ]
  }
 ],
 "metadata": {
  "kernelspec": {
   "display_name": ".venv",
   "language": "python",
   "name": "python3"
  },
  "language_info": {
   "codemirror_mode": {
    "name": "ipython",
    "version": 3
   },
   "file_extension": ".py",
   "mimetype": "text/x-python",
   "name": "python",
   "nbconvert_exporter": "python",
   "pygments_lexer": "ipython3",
   "version": "3.10.13"
  }
 },
 "nbformat": 4,
 "nbformat_minor": 2
}
