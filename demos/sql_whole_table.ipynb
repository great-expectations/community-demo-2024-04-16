{
 "cells": [
  {
   "cell_type": "markdown",
   "metadata": {},
   "source": [
    "# SQL Asset - Partitioned"
   ]
  },
  {
   "cell_type": "markdown",
   "metadata": {},
   "source": [
    "## Basic setup"
   ]
  },
  {
   "cell_type": "code",
   "execution_count": 4,
   "metadata": {},
   "outputs": [],
   "source": [
    "# imports\n",
    "\n",
    "import os\n",
    "import great_expectations as gx\n",
    "from great_expectations.core.partitioners import PartitionerYearAndMonth\n",
    "import great_expectations.expectations as gxe\n",
    "from great_expectations.checkpoint.v1_checkpoint import Checkpoint\n",
    "from great_expectations.core.validation_definition import ValidationDefinition\n",
    "from constants import DB_CONNECTION_STRING, TABLE_NAME"
   ]
  },
  {
   "cell_type": "code",
   "execution_count": 5,
   "metadata": {},
   "outputs": [],
   "source": [
    "# constants\n",
    "\n",
    "asset_name = \"trip-data\"\n",
    "batch_definition_name = \"partition-by-month\"\n",
    "checkpoint_name = \"my_checkpoint\"\n",
    "datasource_name = \"postgres\"\n",
    "suite_name = \"passenger_count_checker\""
   ]
  },
  {
   "cell_type": "code",
   "execution_count": 6,
   "metadata": {},
   "outputs": [
    {
     "data": {
      "text/plain": [
       "ExpectColumnValuesToBeBetween(id='27dd79dc-3a8c-4218-9f70-17f7c8b88851', meta=None, notes=None, result_format=<ResultFormat.BASIC: 'BASIC'>, catch_exceptions=True, rendered_content=None, batch_id=None, row_condition=None, condition_parser=None, mostly=1.0, column='passenger_count', min_value=0.0, max_value=10.0, strict_min=False, strict_max=False)"
      ]
     },
     "execution_count": 6,
     "metadata": {},
     "output_type": "execute_result"
    }
   ],
   "source": [
    "# models\n",
    "\n",
    "context = gx.get_context(mode=\"ephemeral\")\n",
    "\n",
    "datasource = context.sources.add_postgres(datasource_name, connection_string=DB_CONNECTION_STRING)\n",
    "data_asset = datasource.add_table_asset(name=asset_name, table_name=TABLE_NAME)\n",
    "batch_def = data_asset.add_batch_definition(batch_definition_name)\n",
    "suite = context.add_expectation_suite(suite_name)\n",
    "suite.add_expectation(\n",
    "    gxe.ExpectColumnValuesToBeBetween(\n",
    "        column=\"passenger_count\", min_value=0, max_value=10\n",
    "    )\n",
    ")\n"
   ]
  },
  {
   "cell_type": "markdown",
   "metadata": {},
   "source": [
    "## Check that we just get one batch (that contains everything)"
   ]
  },
  {
   "cell_type": "code",
   "execution_count": 7,
   "metadata": {},
   "outputs": [
    {
     "name": "stdout",
     "output_type": "stream",
     "text": [
      "['postgres-trip-data']\n"
     ]
    }
   ],
   "source": [
    "batch_request = batch_def.build_batch_request()\n",
    "batches = data_asset.get_batch_list_from_batch_request(batch_request)\n",
    "\n",
    "# verify that we have exactly one batch\n",
    "print([b.id for b in batches])"
   ]
  },
  {
   "cell_type": "markdown",
   "metadata": {},
   "source": [
    "## Run ValidationDefinition"
   ]
  },
  {
   "cell_type": "code",
   "execution_count": 8,
   "metadata": {},
   "outputs": [
    {
     "data": {
      "application/vnd.jupyter.widget-view+json": {
       "model_id": "2061d93dcde14772b0f72fde4688a46f",
       "version_major": 2,
       "version_minor": 0
      },
      "text/plain": [
       "Calculating Metrics:   0%|          | 0/13 [00:00<?, ?it/s]"
      ]
     },
     "metadata": {},
     "output_type": "display_data"
    },
    {
     "name": "stdout",
     "output_type": "stream",
     "text": [
      "{\n",
      "  \"success\": true,\n",
      "  \"results\": [\n",
      "    {\n",
      "      \"success\": true,\n",
      "      \"expectation_config\": {\n",
      "        \"expectation_type\": \"expect_column_values_to_be_between\",\n",
      "        \"kwargs\": {\n",
      "          \"batch_id\": \"postgres-trip-data\",\n",
      "          \"column\": \"passenger_count\",\n",
      "          \"min_value\": 0.0,\n",
      "          \"max_value\": 10.0\n",
      "        },\n",
      "        \"meta\": {},\n",
      "        \"id\": \"27dd79dc-3a8c-4218-9f70-17f7c8b88851\"\n",
      "      },\n",
      "      \"result\": {\n",
      "        \"element_count\": 3800,\n",
      "        \"unexpected_count\": 0,\n",
      "        \"unexpected_percent\": 0.0,\n",
      "        \"partial_unexpected_list\": [],\n",
      "        \"missing_count\": 150,\n",
      "        \"missing_percent\": 3.9473684210526314,\n",
      "        \"unexpected_percent_total\": 0.0,\n",
      "        \"unexpected_percent_nonmissing\": 0.0,\n",
      "        \"partial_unexpected_counts\": []\n",
      "      },\n",
      "      \"meta\": {},\n",
      "      \"exception_info\": {\n",
      "        \"raised_exception\": false,\n",
      "        \"exception_traceback\": null,\n",
      "        \"exception_message\": null\n",
      "      }\n",
      "    }\n",
      "  ],\n",
      "  \"suite_name\": \"passenger_count_checker\",\n",
      "  \"evaluation_parameters\": {},\n",
      "  \"statistics\": {\n",
      "    \"evaluated_expectations\": 1,\n",
      "    \"successful_expectations\": 1,\n",
      "    \"unsuccessful_expectations\": 0,\n",
      "    \"success_percent\": 100.0\n",
      "  },\n",
      "  \"meta\": {},\n",
      "  \"id\": null\n",
      "}\n"
     ]
    }
   ],
   "source": [
    "validation_definition = ValidationDefinition(name=\"epheemeral validation definition\", data=batch_def, suite=suite)\n",
    "\n",
    "results = validation_definition.run()\n",
    "print(results)"
   ]
  },
  {
   "cell_type": "markdown",
   "metadata": {},
   "source": [
    "## Create and run a Checkpoint"
   ]
  },
  {
   "cell_type": "code",
   "execution_count": 9,
   "metadata": {},
   "outputs": [
    {
     "data": {
      "application/vnd.jupyter.widget-view+json": {
       "model_id": "2a2ee14c91824123a1b68cbef102e355",
       "version_major": 2,
       "version_minor": 0
      },
      "text/plain": [
       "Calculating Metrics:   0%|          | 0/13 [00:00<?, ?it/s]"
      ]
     },
     "metadata": {},
     "output_type": "display_data"
    },
    {
     "name": "stdout",
     "output_type": "stream",
     "text": [
      "run_id={\"run_name\": null, \"run_time\": \"2024-04-12T16:32:19.941888-04:00\"} run_results={ValidationResultIdentifier::passenger_count_checker/__none__/20240412T203219.941888Z/postgres-trip-data: {\n",
      "  \"success\": true,\n",
      "  \"results\": [\n",
      "    {\n",
      "      \"success\": true,\n",
      "      \"expectation_config\": {\n",
      "        \"expectation_type\": \"expect_column_values_to_be_between\",\n",
      "        \"kwargs\": {\n",
      "          \"batch_id\": \"postgres-trip-data\",\n",
      "          \"column\": \"passenger_count\",\n",
      "          \"min_value\": 0.0,\n",
      "          \"max_value\": 10.0\n",
      "        },\n",
      "        \"meta\": {},\n",
      "        \"id\": \"27dd79dc-3a8c-4218-9f70-17f7c8b88851\"\n",
      "      },\n",
      "      \"result\": {\n",
      "        \"element_count\": 3800,\n",
      "        \"unexpected_count\": 0,\n",
      "        \"unexpected_percent\": 0.0,\n",
      "        \"partial_unexpected_list\": [],\n",
      "        \"missing_count\": 150,\n",
      "        \"missing_percent\": 3.9473684210526314,\n",
      "        \"unexpected_percent_total\": 0.0,\n",
      "        \"unexpected_percent_nonmissing\": 0.0,\n",
      "        \"partial_unexpected_counts\": []\n",
      "      },\n",
      "      \"meta\": {},\n",
      "      \"exception_info\": {\n",
      "        \"raised_exception\": false,\n",
      "        \"exception_traceback\": null,\n",
      "        \"exception_message\": null\n",
      "      }\n",
      "    }\n",
      "  ],\n",
      "  \"suite_name\": \"passenger_count_checker\",\n",
      "  \"evaluation_parameters\": {},\n",
      "  \"statistics\": {\n",
      "    \"evaluated_expectations\": 1,\n",
      "    \"successful_expectations\": 1,\n",
      "    \"unsuccessful_expectations\": 0,\n",
      "    \"success_percent\": 100.0\n",
      "  },\n",
      "  \"meta\": {},\n",
      "  \"id\": null\n",
      "}} checkpoint_config=Checkpoint(name='my_checkpoint', validation_definitions=[ValidationDefinition(name='validation_def', data=BatchDefinition(id=None, name='partition-by-month', partitioner=None, batching_regex=None), suite={\n",
      "  \"name\": \"passenger_count_checker\",\n",
      "  \"id\": \"a5029c6b-e1b3-42a3-a4c6-b8885e676066\",\n",
      "  \"expectations\": [\n",
      "    {\n",
      "      \"expectation_type\": \"expect_column_values_to_be_between\",\n",
      "      \"kwargs\": {\n",
      "        \"column\": \"passenger_count\",\n",
      "        \"min_value\": 0.0,\n",
      "        \"max_value\": 10.0\n",
      "      },\n",
      "      \"meta\": {},\n",
      "      \"id\": \"27dd79dc-3a8c-4218-9f70-17f7c8b88851\"\n",
      "    }\n",
      "  ],\n",
      "  \"meta\": {\n",
      "    \"great_expectations_version\": \"1.0.0a1+233.gec4e8bc6e.dirty\"\n",
      "  },\n",
      "  \"notes\": null\n",
      "}, id='873d9d64-992d-4c7e-8846-c1aa52074ed9')], actions=[], result_format=<ResultFormat.SUMMARY: 'SUMMARY'>, id='e313d146-69a8-4d1f-9536-08f6dea13dbe') success=True\n"
     ]
    }
   ],
   "source": [
    "# We can also run this in a checkpoint\n",
    "checkpoint = context.checkpoints.add(Checkpoint(\n",
    "    name=checkpoint_name,\n",
    "    validation_definitions=[\n",
    "        ValidationDefinition(name=\"validation_def\", data=batch_def, suite=suite)\n",
    "    ],\n",
    "    actions=[],\n",
    "))\n",
    "\n",
    "results = checkpoint.run()\n",
    "print(results)"
   ]
  }
 ],
 "metadata": {
  "kernelspec": {
   "display_name": ".venv",
   "language": "python",
   "name": "python3"
  },
  "language_info": {
   "codemirror_mode": {
    "name": "ipython",
    "version": 3
   },
   "file_extension": ".py",
   "mimetype": "text/x-python",
   "name": "python",
   "nbconvert_exporter": "python",
   "pygments_lexer": "ipython3",
   "version": "3.10.13"
  }
 },
 "nbformat": 4,
 "nbformat_minor": 2
}
