{
 "cells": [
  {
   "cell_type": "markdown",
   "metadata": {},
   "source": [
    "# Validation Definitions and Checkpoints\n",
    "\n",
    "Before running this notebook, make sure you're gone through \"Authoring Expectation Suites\", which connects to data.\n"
   ]
  },
  {
   "cell_type": "markdown",
   "metadata": {},
   "source": [
    "### Imports"
   ]
  },
  {
   "cell_type": "code",
   "execution_count": null,
   "metadata": {},
   "outputs": [],
   "source": [
    "import great_expectations as gx\n",
    "import great_expectations.exceptions as exceptions\n",
    "from great_expectations.checkpoint.actions import UpdateDataDocsAction\n",
    "from great_expectations.checkpoint.checkpoint import Checkpoint\n",
    "from great_expectations.core.validation_definition import ValidationDefinition\n",
    "from great_expectations.datasource.fluent.interfaces import Datasource\n",
    "\n",
    "from constants import (\n",
    "    CHECKPOINT_NAME,\n",
    "    DATASOURCE_NAME,\n",
    "    ASSET_NAME,\n",
    "    SUITE_NAME,\n",
    "    BATCH_DEFINITION_NAME_WHOLE_TABLE,\n",
    ")"
   ]
  },
  {
   "cell_type": "markdown",
   "metadata": {},
   "source": [
    "### Load our entities"
   ]
  },
  {
   "cell_type": "code",
   "execution_count": null,
   "metadata": {},
   "outputs": [],
   "source": [
    "context = gx.get_context(mode=\"file\")\n",
    "\n",
    "datasource = context.get_datasource(DATASOURCE_NAME)\n",
    "assert isinstance(datasource, Datasource)\n",
    "data_asset = datasource.get_asset(asset_name=ASSET_NAME)\n",
    "\n",
    "suite = context.suites.get(SUITE_NAME)\n",
    "\n",
    "batch_definition = next(bd for bd in data_asset.batch_definitions if bd.name == BATCH_DEFINITION_NAME_WHOLE_TABLE)"
   ]
  },
  {
   "cell_type": "markdown",
   "metadata": {},
   "source": [
    "### Create a Validation Definition\n",
    "\n",
    "Validation definitions are a new, greatly simplified, concept in GX 1.0. They represent an explicit way to tie data, via a Batch Definition, to the expectation on that data. These are at the center of the reworked Checkpoints API."
   ]
  },
  {
   "cell_type": "code",
   "execution_count": null,
   "metadata": {},
   "outputs": [],
   "source": [
    "validation_definition = ValidationDefinition(\n",
    "    name=\"ephemeral validation definition\",\n",
    "    data=batch_definition,\n",
    "    suite=suite,\n",
    ")\n",
    "\n",
    "results = validation_definition.run()\n",
    "print(results)"
   ]
  },
  {
   "cell_type": "markdown",
   "metadata": {},
   "source": [
    "## Create and run a Checkpoint\n",
    "\n",
    "Validation Definitions can be tied to actions, such as slack notifications and building data docs, via Checkpoints. Checkpoints also provide an interface run multiple Validation Definitions together."
   ]
  },
  {
   "cell_type": "code",
   "execution_count": null,
   "metadata": {},
   "outputs": [],
   "source": [
    "try:\n",
    "    checkpoint = context.checkpoints.add(Checkpoint(\n",
    "        name=CHECKPOINT_NAME,\n",
    "        validation_definitions=[\n",
    "            validation_definition,\n",
    "            ValidationDefinition(name=\"another\", data=batch_definition, suite=suite)\n",
    "        ],\n",
    "        actions=[UpdateDataDocsAction(name=\"update_data_docs\")]\n",
    "    ))\n",
    "except exceptions.DataContextError:\n",
    "    checkpoint = context.checkpoints.get(name=CHECKPOINT_NAME)\n",
    "\n",
    "results = checkpoint.run()\n",
    "context.open_data_docs()\n",
    "print(results)"
   ]
  }
 ],
 "metadata": {
  "kernelspec": {
   "display_name": ".venv",
   "language": "python",
   "name": "python3"
  },
  "language_info": {
   "codemirror_mode": {
    "name": "ipython",
    "version": 3
   },
   "file_extension": ".py",
   "mimetype": "text/x-python",
   "name": "python",
   "nbconvert_exporter": "python",
   "pygments_lexer": "ipython3",
   "version": "3.10.14"
  }
 },
 "nbformat": 4,
 "nbformat_minor": 2
}
